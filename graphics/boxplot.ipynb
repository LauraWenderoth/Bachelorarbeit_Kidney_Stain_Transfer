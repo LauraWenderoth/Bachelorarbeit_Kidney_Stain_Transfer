{
 "cells": [
  {
   "cell_type": "code",
   "execution_count": 2,
   "metadata": {
    "collapsed": true,
    "pycharm": {
     "name": "#%%\n"
    }
   },
   "outputs": [],
   "source": [
    "import pandas as pd\n",
    "import glob\n",
    "import plotly.graph_objects as go\n",
    "import numpy as np\n",
    "\n",
    "\n",
    "# %%\n",
    "files = glob.glob('../results_data/multiple_seed/*')\n",
    "labels = ['pix2pix', 'pix2pix L1', 'pix2pix L1+reset', 'pix2pix patches', 'cycleGAN', 'cycleGAN patches']\n",
    "file_names = ['test_pix2pix_PAS2IF_van_patches', 'test_pix2pix_PAS2IF_L1_patches', 'test_pix2pix_PAS2IF_L1_reset_patches', '', 'test_cycle_PAS2IF_van_patches', '']\n",
    "metrics = ['SSIM', 'MAE', 'MSE', 'FID', 'Dice podo. object', 'Dice podo. pixel', 'Dice glom. pixel']"
   ]
  },
  {
   "cell_type": "code",
   "execution_count": 1,
   "outputs": [
    {
     "ename": "NameError",
     "evalue": "name 'pd' is not defined",
     "output_type": "error",
     "traceback": [
      "\u001B[0;31m---------------------------------------------------------------------------\u001B[0m",
      "\u001B[0;31mNameError\u001B[0m                                 Traceback (most recent call last)",
      "\u001B[0;32m<ipython-input-1-0ff89ba8571f>\u001B[0m in \u001B[0;36m<module>\u001B[0;34m\u001B[0m\n\u001B[1;32m      1\u001B[0m \u001B[0;31m# Read Multi Seeds\u001B[0m\u001B[0;34m\u001B[0m\u001B[0;34m\u001B[0m\u001B[0;34m\u001B[0m\u001B[0m\n\u001B[0;32m----> 2\u001B[0;31m \u001B[0mdf_final\u001B[0m \u001B[0;34m=\u001B[0m \u001B[0mpd\u001B[0m\u001B[0;34m.\u001B[0m\u001B[0mDataFrame\u001B[0m\u001B[0;34m(\u001B[0m\u001B[0;34m)\u001B[0m\u001B[0;34m\u001B[0m\u001B[0;34m\u001B[0m\u001B[0m\n\u001B[0m\u001B[1;32m      3\u001B[0m \u001B[0;32mfor\u001B[0m \u001B[0mfile\u001B[0m \u001B[0;32min\u001B[0m \u001B[0mfiles\u001B[0m\u001B[0;34m:\u001B[0m\u001B[0;34m\u001B[0m\u001B[0;34m\u001B[0m\u001B[0m\n\u001B[1;32m      4\u001B[0m     \u001B[0;32mif\u001B[0m \u001B[0;34m'Hamburg'\u001B[0m \u001B[0;32min\u001B[0m \u001B[0mfile\u001B[0m\u001B[0;34m:\u001B[0m\u001B[0;34m\u001B[0m\u001B[0;34m\u001B[0m\u001B[0m\n\u001B[1;32m      5\u001B[0m         \u001B[0mdf_temp\u001B[0m \u001B[0;34m=\u001B[0m \u001B[0mpd\u001B[0m\u001B[0;34m.\u001B[0m\u001B[0mread_excel\u001B[0m\u001B[0;34m(\u001B[0m\u001B[0mfile\u001B[0m\u001B[0;34m)\u001B[0m\u001B[0;34m\u001B[0m\u001B[0;34m\u001B[0m\u001B[0m\n",
      "\u001B[0;31mNameError\u001B[0m: name 'pd' is not defined"
     ]
    }
   ],
   "source": [
    "# Read Multi Seeds\n",
    "df_final = pd.DataFrame()\n",
    "for file in files:\n",
    "    if 'Hamburg' in file:\n",
    "        df_temp = pd.read_excel(file)\n",
    "        df_temp = df_temp[['Network dice object', 'Network dice pixel']]\n",
    "        df = pd.DataFrame()\n",
    "        cell_type = 'glom.' if 'glom' in file else 'podo.'\n",
    "        df['value'] = df_temp['Network dice object'].append(df_temp['Network dice pixel'])\n",
    "        df['name'] = 'pix2pix'\n",
    "        df['metric'] = np.concatenate([np.repeat(f'Dice {cell_type} object',len(df_temp)),\n",
    "                           np.repeat(f'Dice {cell_type} pixel', len(df_temp))])\n",
    "    else:\n",
    "        name = file.split('/')[3].split(' ')[0]\n",
    "        metric = file.split(' ')[1].split('.')[0]\n",
    "        df = pd.read_csv(file)\n",
    "        df = df.filter(regex=r' (?!.*?(MIN|MAX)).*', axis=1)\n",
    "        df['value'] = df.mean(axis=1)\n",
    "        df['metric'] = metric\n",
    "        df['name'] = name\n",
    "    df_final = pd.concat([df_final, df[['name', 'metric', 'value']]])\n"
   ],
   "metadata": {
    "collapsed": false,
    "pycharm": {
     "name": "#%%\n"
    }
   }
  },
  {
   "cell_type": "code",
   "execution_count": 31,
   "outputs": [
    {
     "data": {
      "text/plain": "                              name metric     value\n0   test_pix2pix_PAS2IF_L1_patches  DACH1  0.610306\n1   test_pix2pix_PAS2IF_L1_patches  DACH1  0.662766\n2   test_pix2pix_PAS2IF_L1_patches  DACH1  0.646876\n3   test_pix2pix_PAS2IF_L1_patches  DACH1  0.596551\n4   test_pix2pix_PAS2IF_L1_patches  DACH1  0.646989\n..                             ...    ...       ...\n47  test_pix2pix_PAS2IF_L1_patches    all  0.783263\n48  test_pix2pix_PAS2IF_L1_patches    all  0.755221\n49  test_pix2pix_PAS2IF_L1_patches    all  0.718438\n50  test_pix2pix_PAS2IF_L1_patches    all  0.775916\n51  test_pix2pix_PAS2IF_L1_patches    all  0.775218\n\n[208 rows x 3 columns]",
      "text/html": "<div>\n<style scoped>\n    .dataframe tbody tr th:only-of-type {\n        vertical-align: middle;\n    }\n\n    .dataframe tbody tr th {\n        vertical-align: top;\n    }\n\n    .dataframe thead th {\n        text-align: right;\n    }\n</style>\n<table border=\"1\" class=\"dataframe\">\n  <thead>\n    <tr style=\"text-align: right;\">\n      <th></th>\n      <th>name</th>\n      <th>metric</th>\n      <th>value</th>\n    </tr>\n  </thead>\n  <tbody>\n    <tr>\n      <th>0</th>\n      <td>test_pix2pix_PAS2IF_L1_patches</td>\n      <td>DACH1</td>\n      <td>0.610306</td>\n    </tr>\n    <tr>\n      <th>1</th>\n      <td>test_pix2pix_PAS2IF_L1_patches</td>\n      <td>DACH1</td>\n      <td>0.662766</td>\n    </tr>\n    <tr>\n      <th>2</th>\n      <td>test_pix2pix_PAS2IF_L1_patches</td>\n      <td>DACH1</td>\n      <td>0.646876</td>\n    </tr>\n    <tr>\n      <th>3</th>\n      <td>test_pix2pix_PAS2IF_L1_patches</td>\n      <td>DACH1</td>\n      <td>0.596551</td>\n    </tr>\n    <tr>\n      <th>4</th>\n      <td>test_pix2pix_PAS2IF_L1_patches</td>\n      <td>DACH1</td>\n      <td>0.646989</td>\n    </tr>\n    <tr>\n      <th>...</th>\n      <td>...</td>\n      <td>...</td>\n      <td>...</td>\n    </tr>\n    <tr>\n      <th>47</th>\n      <td>test_pix2pix_PAS2IF_L1_patches</td>\n      <td>all</td>\n      <td>0.783263</td>\n    </tr>\n    <tr>\n      <th>48</th>\n      <td>test_pix2pix_PAS2IF_L1_patches</td>\n      <td>all</td>\n      <td>0.755221</td>\n    </tr>\n    <tr>\n      <th>49</th>\n      <td>test_pix2pix_PAS2IF_L1_patches</td>\n      <td>all</td>\n      <td>0.718438</td>\n    </tr>\n    <tr>\n      <th>50</th>\n      <td>test_pix2pix_PAS2IF_L1_patches</td>\n      <td>all</td>\n      <td>0.775916</td>\n    </tr>\n    <tr>\n      <th>51</th>\n      <td>test_pix2pix_PAS2IF_L1_patches</td>\n      <td>all</td>\n      <td>0.775218</td>\n    </tr>\n  </tbody>\n</table>\n<p>208 rows × 3 columns</p>\n</div>"
     },
     "execution_count": 31,
     "metadata": {},
     "output_type": "execute_result"
    }
   ],
   "source": [
    "## Read Channel data\n",
    "files = glob.glob('../results_data/channels/*')\n",
    "\n",
    "df_channels = pd.DataFrame()\n",
    "for file in files:\n",
    "        name = file.split('/')[3].split(' ')[0]\n",
    "        metric = file.split(' ')[3].split('.')[0]\n",
    "        df = pd.read_csv(file)\n",
    "        df = df.filter(regex=r' (?!.*?(MIN|MAX)).*', axis=1)\n",
    "        df['value'] = df.iloc[:, 0]\n",
    "        df['metric'] = metric\n",
    "        df['name'] = name\n",
    "        df_channels = pd.concat([df_channels, df[['name', 'metric', 'value']]])\n",
    "\n",
    "metrics_channels = ['SSIM', '0', '1', '2']\n",
    "label_channels = ['all', 'DAPI', 'WT1', 'DACH1']\n",
    "for label, metric in zip(label_channels, metrics_channels):\n",
    "    df_channels = df_channels.replace({metric: label})\n",
    "\n",
    "df_channels"
   ],
   "metadata": {
    "collapsed": false,
    "pycharm": {
     "name": "#%%\n"
    }
   }
  },
  {
   "cell_type": "code",
   "execution_count": 91,
   "outputs": [],
   "source": [
    "for label, file_name in zip(labels, file_names):\n",
    "    df_final = df_final.replace({file_name: label})"
   ],
   "metadata": {
    "collapsed": false,
    "pycharm": {
     "name": "#%%\n"
    }
   }
  },
  {
   "cell_type": "code",
   "execution_count": 18,
   "outputs": [
    {
     "ename": "NameError",
     "evalue": "name 'df_final' is not defined",
     "output_type": "error",
     "traceback": [
      "\u001B[0;31m---------------------------------------------------------------------------\u001B[0m",
      "\u001B[0;31mNameError\u001B[0m                                 Traceback (most recent call last)",
      "\u001B[0;32m<ipython-input-18-e51dc1b83a80>\u001B[0m in \u001B[0;36m<module>\u001B[0;34m\u001B[0m\n\u001B[1;32m     15\u001B[0m \u001B[0;34m\u001B[0m\u001B[0m\n\u001B[1;32m     16\u001B[0m \u001B[0;32mfor\u001B[0m \u001B[0mmetric\u001B[0m \u001B[0;32min\u001B[0m \u001B[0mmetrics\u001B[0m\u001B[0;34m:\u001B[0m\u001B[0;34m\u001B[0m\u001B[0;34m\u001B[0m\u001B[0m\n\u001B[0;32m---> 17\u001B[0;31m     \u001B[0mboxplot\u001B[0m\u001B[0;34m(\u001B[0m\u001B[0mdf_final\u001B[0m\u001B[0;34m,\u001B[0m \u001B[0mmetric\u001B[0m\u001B[0;34m,\u001B[0m \u001B[0mlabels\u001B[0m\u001B[0;34m=\u001B[0m\u001B[0mlabels\u001B[0m\u001B[0;34m,\u001B[0m \u001B[0mexport\u001B[0m\u001B[0;34m=\u001B[0m\u001B[0;32mTrue\u001B[0m\u001B[0;34m)\u001B[0m\u001B[0;34m\u001B[0m\u001B[0;34m\u001B[0m\u001B[0m\n\u001B[0m\u001B[1;32m     18\u001B[0m \u001B[0;34m\u001B[0m\u001B[0m\n",
      "\u001B[0;31mNameError\u001B[0m: name 'df_final' is not defined"
     ]
    }
   ],
   "source": [
    "def boxplot(df: pd.DataFrame, metric: str, labels:list, export=False) -> None:\n",
    "    df_plot = df[df.metric == metric]\n",
    "    colors = ['#4038E8', '#3A63F2', '#408ADB', '#3AC4F2', '#30F541', '#3EF595']\n",
    "    fig = go.Figure()\n",
    "    for col, name in zip(colors, labels):\n",
    "        fig.add_trace(go.Box(y=df_plot['value'][df_plot.name == name],\n",
    "            name=name, marker_color=col, boxmean=True, showlegend=False, boxpoints='all'\n",
    "        ))\n",
    "    fig.update_layout(template='simple_white', yaxis_title=metric, font_family=\"Computer Modern\")\n",
    "    fig.update_xaxes(categoryorder='array', categoryarray=labels)\n",
    "    fig.show()\n",
    "\n",
    "    if export:\n",
    "        fig.write_image(f'../graphics/{metric}.png')\n",
    "\n",
    "for metric in metrics:\n",
    "    boxplot(df_final, metric, labels=labels, export=True)\n",
    "\n"
   ],
   "metadata": {
    "collapsed": false,
    "pycharm": {
     "name": "#%%\n"
    }
   }
  },
  {
   "cell_type": "code",
   "execution_count": 33,
   "outputs": [
    {
     "data": {
      "application/vnd.plotly.v1+json": {
       "data": [
        {
         "boxmean": true,
         "boxpoints": "all",
         "marker": {
          "color": "#808080"
         },
         "name": "all",
         "showlegend": false,
         "y": [
          0.7419069378451068,
          0.7602941358787846,
          0.7606503258553371,
          0.7453080671144047,
          0.7660903454306277,
          0.7600800574522465,
          0.7845752041893589,
          0.7696815423259729,
          0.7245457200785355,
          0.7863212965373729,
          0.7745849341237141,
          0.7826716035357263,
          0.7625521347098964,
          0.7730954522011183,
          0.7694333106009216,
          0.7579881216582649,
          0.7851351841754329,
          0.7831709949107152,
          0.7844571351057413,
          0.7596939060772478,
          0.7542648541530759,
          0.8384340076530593,
          0.7995081168711478,
          0.7587674087899883,
          0.7748509429994336,
          0.7827512524873033,
          0.7958456416684031,
          0.7931564688039966,
          0.7855417661980066,
          0.7871369068331218,
          0.7764525833152831,
          0.7944841413584532,
          0.7752743476895537,
          0.7970707635493866,
          0.7967696617055565,
          0.7894974567113687,
          0.8010964828949084,
          0.8057414878076884,
          0.7349111447898857,
          0.7773200887794264,
          0.7881058690776834,
          0.7589741717005132,
          0.7627844119331594,
          0.7732990333880984,
          0.7823750613577186,
          0.7692406346316641,
          0.7181670805667509,
          0.7832633806772825,
          0.7552212072046899,
          0.7184375504308731,
          0.7759160812604396,
          0.7752176335940192
         ],
         "type": "box"
        },
        {
         "boxmean": true,
         "boxpoints": "all",
         "marker": {
          "color": "#DF2F27"
         },
         "name": "DAPI",
         "showlegend": false,
         "y": [
          0.9267930296587364,
          0.9416041325670704,
          0.9451918778578969,
          0.9253518002783868,
          0.9261371544099424,
          0.927593081169068,
          0.9355840914081808,
          0.9298887758930232,
          0.8927851121147057,
          0.923449663879752,
          0.913923815113012,
          0.9253732579966172,
          0.9140103463276656,
          0.9172083937213044,
          0.92449443689889,
          0.9161192067737192,
          0.9263284798748724,
          0.92338557816384,
          0.9192555997494744,
          0.8906262324080043,
          0.9172813573352906,
          0.9486069748265032,
          0.9281113039720044,
          0.94679802063235,
          0.9350673069847206,
          0.9450698603533438,
          0.9538339413837668,
          0.9392201135035612,
          0.9353911341983231,
          0.9328687274949352,
          0.926269147733374,
          0.9311892417826736,
          0.9312231996015706,
          0.9435139199378516,
          0.9304945846965508,
          0.9469928511587992,
          0.9465332077330968,
          0.9456250293358816,
          0.9053634515129344,
          0.9032783658654624,
          0.911228437360042,
          0.8990211836879971,
          0.8848659104991284,
          0.9262222621052258,
          0.9184240734174094,
          0.9047049367412762,
          0.8965557434706501,
          0.9195313853692088,
          0.9095183009335458,
          0.910800376279984,
          0.9057569365268756,
          0.9008160705854676
         ],
         "type": "box"
        },
        {
         "boxmean": true,
         "boxpoints": "all",
         "marker": {
          "color": "#31DF41"
         },
         "name": "WT1",
         "showlegend": false,
         "y": [
          0.6886217298205933,
          0.676512146894311,
          0.6898826361000895,
          0.71402105792395,
          0.7251445265646331,
          0.6903408211689587,
          0.7534090853388709,
          0.7004519750464905,
          0.6168961047977443,
          0.7157096885560826,
          0.720642237568759,
          0.7143682558378753,
          0.6859787007765763,
          0.688135211712511,
          0.7135378504016177,
          0.6469132259433366,
          0.7184813088192519,
          0.7377044893412641,
          0.7404609441468716,
          0.6867987477977558,
          0.6736723352996121,
          0.7870369495719545,
          0.7569745173044473,
          0.6042212387602789,
          0.6985102787398941,
          0.7535412718173673,
          0.6838762727386587,
          0.7317816877062977,
          0.7007992490014422,
          0.7421235342626229,
          0.7048141165991968,
          0.7181331486547576,
          0.6554364658203216,
          0.7358531020835279,
          0.7503780668845069,
          0.7003990580585894,
          0.7426783059583419,
          0.7556257452939679,
          0.6046060976703993,
          0.6748185750390555,
          0.7052579672064329,
          0.7029292207915573,
          0.6998856878480189,
          0.6875915187268407,
          0.6976685750092879,
          0.6901042279530003,
          0.6553009116729683,
          0.6754206946555981,
          0.6607732298438818,
          0.5499686294633357,
          0.7393953973060178,
          0.6831145529661751
         ],
         "type": "box"
        },
        {
         "boxmean": true,
         "boxpoints": "all",
         "marker": {
          "color": "#334AF9"
         },
         "name": "DACH1",
         "showlegend": false,
         "y": [
          0.6103060540559907,
          0.662766128174972,
          0.646876463608025,
          0.5965513431408769,
          0.6469893553173075,
          0.662306270018713,
          0.6647324358210249,
          0.678703876038405,
          0.6639559433231568,
          0.7198045371762849,
          0.6891887496893713,
          0.7082732967726862,
          0.687667357025447,
          0.7139427511695393,
          0.6702676445022571,
          0.7109319322577388,
          0.7105957638321743,
          0.6884229172270414,
          0.6936548614208778,
          0.7016567380259833,
          0.6718408698243251,
          0.7796580985607204,
          0.7134385293369917,
          0.7252829669773357,
          0.6909752432736859,
          0.6496426252911989,
          0.7498267108827839,
          0.7084676052021309,
          0.7204349153942546,
          0.6864184587418071,
          0.6982744856132785,
          0.7341300336379282,
          0.7391633776467689,
          0.7118452686267803,
          0.7094363335356116,
          0.7211004609167179,
          0.7140779349932863,
          0.7159736887932159,
          0.6947638851863235,
          0.7538633254337611,
          0.7478312026665758,
          0.6749721106219854,
          0.7036016374523308,
          0.7060833193322288,
          0.7310325356464584,
          0.7129127392007157,
          0.6026445865566344,
          0.7548380620070407,
          0.6953720908366414,
          0.6945436455492996,
          0.6825959099484256,
          0.7417222772304151
         ],
         "type": "box"
        }
       ],
       "layout": {
        "template": {
         "data": {
          "barpolar": [
           {
            "marker": {
             "line": {
              "color": "white",
              "width": 0.5
             },
             "pattern": {
              "fillmode": "overlay",
              "size": 10,
              "solidity": 0.2
             }
            },
            "type": "barpolar"
           }
          ],
          "bar": [
           {
            "error_x": {
             "color": "rgb(36,36,36)"
            },
            "error_y": {
             "color": "rgb(36,36,36)"
            },
            "marker": {
             "line": {
              "color": "white",
              "width": 0.5
             },
             "pattern": {
              "fillmode": "overlay",
              "size": 10,
              "solidity": 0.2
             }
            },
            "type": "bar"
           }
          ],
          "carpet": [
           {
            "aaxis": {
             "endlinecolor": "rgb(36,36,36)",
             "gridcolor": "white",
             "linecolor": "white",
             "minorgridcolor": "white",
             "startlinecolor": "rgb(36,36,36)"
            },
            "baxis": {
             "endlinecolor": "rgb(36,36,36)",
             "gridcolor": "white",
             "linecolor": "white",
             "minorgridcolor": "white",
             "startlinecolor": "rgb(36,36,36)"
            },
            "type": "carpet"
           }
          ],
          "choropleth": [
           {
            "colorbar": {
             "outlinewidth": 1,
             "tickcolor": "rgb(36,36,36)",
             "ticks": "outside"
            },
            "type": "choropleth"
           }
          ],
          "contourcarpet": [
           {
            "colorbar": {
             "outlinewidth": 1,
             "tickcolor": "rgb(36,36,36)",
             "ticks": "outside"
            },
            "type": "contourcarpet"
           }
          ],
          "contour": [
           {
            "colorbar": {
             "outlinewidth": 1,
             "tickcolor": "rgb(36,36,36)",
             "ticks": "outside"
            },
            "colorscale": [
             [
              0.0,
              "#440154"
             ],
             [
              0.1111111111111111,
              "#482878"
             ],
             [
              0.2222222222222222,
              "#3e4989"
             ],
             [
              0.3333333333333333,
              "#31688e"
             ],
             [
              0.4444444444444444,
              "#26828e"
             ],
             [
              0.5555555555555556,
              "#1f9e89"
             ],
             [
              0.6666666666666666,
              "#35b779"
             ],
             [
              0.7777777777777778,
              "#6ece58"
             ],
             [
              0.8888888888888888,
              "#b5de2b"
             ],
             [
              1.0,
              "#fde725"
             ]
            ],
            "type": "contour"
           }
          ],
          "heatmapgl": [
           {
            "colorbar": {
             "outlinewidth": 1,
             "tickcolor": "rgb(36,36,36)",
             "ticks": "outside"
            },
            "colorscale": [
             [
              0.0,
              "#440154"
             ],
             [
              0.1111111111111111,
              "#482878"
             ],
             [
              0.2222222222222222,
              "#3e4989"
             ],
             [
              0.3333333333333333,
              "#31688e"
             ],
             [
              0.4444444444444444,
              "#26828e"
             ],
             [
              0.5555555555555556,
              "#1f9e89"
             ],
             [
              0.6666666666666666,
              "#35b779"
             ],
             [
              0.7777777777777778,
              "#6ece58"
             ],
             [
              0.8888888888888888,
              "#b5de2b"
             ],
             [
              1.0,
              "#fde725"
             ]
            ],
            "type": "heatmapgl"
           }
          ],
          "heatmap": [
           {
            "colorbar": {
             "outlinewidth": 1,
             "tickcolor": "rgb(36,36,36)",
             "ticks": "outside"
            },
            "colorscale": [
             [
              0.0,
              "#440154"
             ],
             [
              0.1111111111111111,
              "#482878"
             ],
             [
              0.2222222222222222,
              "#3e4989"
             ],
             [
              0.3333333333333333,
              "#31688e"
             ],
             [
              0.4444444444444444,
              "#26828e"
             ],
             [
              0.5555555555555556,
              "#1f9e89"
             ],
             [
              0.6666666666666666,
              "#35b779"
             ],
             [
              0.7777777777777778,
              "#6ece58"
             ],
             [
              0.8888888888888888,
              "#b5de2b"
             ],
             [
              1.0,
              "#fde725"
             ]
            ],
            "type": "heatmap"
           }
          ],
          "histogram2dcontour": [
           {
            "colorbar": {
             "outlinewidth": 1,
             "tickcolor": "rgb(36,36,36)",
             "ticks": "outside"
            },
            "colorscale": [
             [
              0.0,
              "#440154"
             ],
             [
              0.1111111111111111,
              "#482878"
             ],
             [
              0.2222222222222222,
              "#3e4989"
             ],
             [
              0.3333333333333333,
              "#31688e"
             ],
             [
              0.4444444444444444,
              "#26828e"
             ],
             [
              0.5555555555555556,
              "#1f9e89"
             ],
             [
              0.6666666666666666,
              "#35b779"
             ],
             [
              0.7777777777777778,
              "#6ece58"
             ],
             [
              0.8888888888888888,
              "#b5de2b"
             ],
             [
              1.0,
              "#fde725"
             ]
            ],
            "type": "histogram2dcontour"
           }
          ],
          "histogram2d": [
           {
            "colorbar": {
             "outlinewidth": 1,
             "tickcolor": "rgb(36,36,36)",
             "ticks": "outside"
            },
            "colorscale": [
             [
              0.0,
              "#440154"
             ],
             [
              0.1111111111111111,
              "#482878"
             ],
             [
              0.2222222222222222,
              "#3e4989"
             ],
             [
              0.3333333333333333,
              "#31688e"
             ],
             [
              0.4444444444444444,
              "#26828e"
             ],
             [
              0.5555555555555556,
              "#1f9e89"
             ],
             [
              0.6666666666666666,
              "#35b779"
             ],
             [
              0.7777777777777778,
              "#6ece58"
             ],
             [
              0.8888888888888888,
              "#b5de2b"
             ],
             [
              1.0,
              "#fde725"
             ]
            ],
            "type": "histogram2d"
           }
          ],
          "histogram": [
           {
            "marker": {
             "line": {
              "color": "white",
              "width": 0.6
             }
            },
            "type": "histogram"
           }
          ],
          "mesh3d": [
           {
            "colorbar": {
             "outlinewidth": 1,
             "tickcolor": "rgb(36,36,36)",
             "ticks": "outside"
            },
            "type": "mesh3d"
           }
          ],
          "parcoords": [
           {
            "line": {
             "colorbar": {
              "outlinewidth": 1,
              "tickcolor": "rgb(36,36,36)",
              "ticks": "outside"
             }
            },
            "type": "parcoords"
           }
          ],
          "pie": [
           {
            "automargin": true,
            "type": "pie"
           }
          ],
          "scatter3d": [
           {
            "line": {
             "colorbar": {
              "outlinewidth": 1,
              "tickcolor": "rgb(36,36,36)",
              "ticks": "outside"
             }
            },
            "marker": {
             "colorbar": {
              "outlinewidth": 1,
              "tickcolor": "rgb(36,36,36)",
              "ticks": "outside"
             }
            },
            "type": "scatter3d"
           }
          ],
          "scattercarpet": [
           {
            "marker": {
             "colorbar": {
              "outlinewidth": 1,
              "tickcolor": "rgb(36,36,36)",
              "ticks": "outside"
             }
            },
            "type": "scattercarpet"
           }
          ],
          "scattergeo": [
           {
            "marker": {
             "colorbar": {
              "outlinewidth": 1,
              "tickcolor": "rgb(36,36,36)",
              "ticks": "outside"
             }
            },
            "type": "scattergeo"
           }
          ],
          "scattergl": [
           {
            "marker": {
             "colorbar": {
              "outlinewidth": 1,
              "tickcolor": "rgb(36,36,36)",
              "ticks": "outside"
             }
            },
            "type": "scattergl"
           }
          ],
          "scattermapbox": [
           {
            "marker": {
             "colorbar": {
              "outlinewidth": 1,
              "tickcolor": "rgb(36,36,36)",
              "ticks": "outside"
             }
            },
            "type": "scattermapbox"
           }
          ],
          "scatterpolargl": [
           {
            "marker": {
             "colorbar": {
              "outlinewidth": 1,
              "tickcolor": "rgb(36,36,36)",
              "ticks": "outside"
             }
            },
            "type": "scatterpolargl"
           }
          ],
          "scatterpolar": [
           {
            "marker": {
             "colorbar": {
              "outlinewidth": 1,
              "tickcolor": "rgb(36,36,36)",
              "ticks": "outside"
             }
            },
            "type": "scatterpolar"
           }
          ],
          "scatter": [
           {
            "fillpattern": {
             "fillmode": "overlay",
             "size": 10,
             "solidity": 0.2
            },
            "type": "scatter"
           }
          ],
          "scatterternary": [
           {
            "marker": {
             "colorbar": {
              "outlinewidth": 1,
              "tickcolor": "rgb(36,36,36)",
              "ticks": "outside"
             }
            },
            "type": "scatterternary"
           }
          ],
          "surface": [
           {
            "colorbar": {
             "outlinewidth": 1,
             "tickcolor": "rgb(36,36,36)",
             "ticks": "outside"
            },
            "colorscale": [
             [
              0.0,
              "#440154"
             ],
             [
              0.1111111111111111,
              "#482878"
             ],
             [
              0.2222222222222222,
              "#3e4989"
             ],
             [
              0.3333333333333333,
              "#31688e"
             ],
             [
              0.4444444444444444,
              "#26828e"
             ],
             [
              0.5555555555555556,
              "#1f9e89"
             ],
             [
              0.6666666666666666,
              "#35b779"
             ],
             [
              0.7777777777777778,
              "#6ece58"
             ],
             [
              0.8888888888888888,
              "#b5de2b"
             ],
             [
              1.0,
              "#fde725"
             ]
            ],
            "type": "surface"
           }
          ],
          "table": [
           {
            "cells": {
             "fill": {
              "color": "rgb(237,237,237)"
             },
             "line": {
              "color": "white"
             }
            },
            "header": {
             "fill": {
              "color": "rgb(217,217,217)"
             },
             "line": {
              "color": "white"
             }
            },
            "type": "table"
           }
          ]
         },
         "layout": {
          "annotationdefaults": {
           "arrowhead": 0,
           "arrowwidth": 1
          },
          "autotypenumbers": "strict",
          "coloraxis": {
           "colorbar": {
            "outlinewidth": 1,
            "tickcolor": "rgb(36,36,36)",
            "ticks": "outside"
           }
          },
          "colorscale": {
           "diverging": [
            [
             0.0,
             "rgb(103,0,31)"
            ],
            [
             0.1,
             "rgb(178,24,43)"
            ],
            [
             0.2,
             "rgb(214,96,77)"
            ],
            [
             0.3,
             "rgb(244,165,130)"
            ],
            [
             0.4,
             "rgb(253,219,199)"
            ],
            [
             0.5,
             "rgb(247,247,247)"
            ],
            [
             0.6,
             "rgb(209,229,240)"
            ],
            [
             0.7,
             "rgb(146,197,222)"
            ],
            [
             0.8,
             "rgb(67,147,195)"
            ],
            [
             0.9,
             "rgb(33,102,172)"
            ],
            [
             1.0,
             "rgb(5,48,97)"
            ]
           ],
           "sequential": [
            [
             0.0,
             "#440154"
            ],
            [
             0.1111111111111111,
             "#482878"
            ],
            [
             0.2222222222222222,
             "#3e4989"
            ],
            [
             0.3333333333333333,
             "#31688e"
            ],
            [
             0.4444444444444444,
             "#26828e"
            ],
            [
             0.5555555555555556,
             "#1f9e89"
            ],
            [
             0.6666666666666666,
             "#35b779"
            ],
            [
             0.7777777777777778,
             "#6ece58"
            ],
            [
             0.8888888888888888,
             "#b5de2b"
            ],
            [
             1.0,
             "#fde725"
            ]
           ],
           "sequentialminus": [
            [
             0.0,
             "#440154"
            ],
            [
             0.1111111111111111,
             "#482878"
            ],
            [
             0.2222222222222222,
             "#3e4989"
            ],
            [
             0.3333333333333333,
             "#31688e"
            ],
            [
             0.4444444444444444,
             "#26828e"
            ],
            [
             0.5555555555555556,
             "#1f9e89"
            ],
            [
             0.6666666666666666,
             "#35b779"
            ],
            [
             0.7777777777777778,
             "#6ece58"
            ],
            [
             0.8888888888888888,
             "#b5de2b"
            ],
            [
             1.0,
             "#fde725"
            ]
           ]
          },
          "colorway": [
           "#1F77B4",
           "#FF7F0E",
           "#2CA02C",
           "#D62728",
           "#9467BD",
           "#8C564B",
           "#E377C2",
           "#7F7F7F",
           "#BCBD22",
           "#17BECF"
          ],
          "font": {
           "color": "rgb(36,36,36)"
          },
          "geo": {
           "bgcolor": "white",
           "lakecolor": "white",
           "landcolor": "white",
           "showlakes": true,
           "showland": true,
           "subunitcolor": "white"
          },
          "hoverlabel": {
           "align": "left"
          },
          "hovermode": "closest",
          "mapbox": {
           "style": "light"
          },
          "paper_bgcolor": "white",
          "plot_bgcolor": "white",
          "polar": {
           "angularaxis": {
            "gridcolor": "rgb(232,232,232)",
            "linecolor": "rgb(36,36,36)",
            "showgrid": false,
            "showline": true,
            "ticks": "outside"
           },
           "bgcolor": "white",
           "radialaxis": {
            "gridcolor": "rgb(232,232,232)",
            "linecolor": "rgb(36,36,36)",
            "showgrid": false,
            "showline": true,
            "ticks": "outside"
           }
          },
          "scene": {
           "xaxis": {
            "backgroundcolor": "white",
            "gridcolor": "rgb(232,232,232)",
            "gridwidth": 2,
            "linecolor": "rgb(36,36,36)",
            "showbackground": true,
            "showgrid": false,
            "showline": true,
            "ticks": "outside",
            "zeroline": false,
            "zerolinecolor": "rgb(36,36,36)"
           },
           "yaxis": {
            "backgroundcolor": "white",
            "gridcolor": "rgb(232,232,232)",
            "gridwidth": 2,
            "linecolor": "rgb(36,36,36)",
            "showbackground": true,
            "showgrid": false,
            "showline": true,
            "ticks": "outside",
            "zeroline": false,
            "zerolinecolor": "rgb(36,36,36)"
           },
           "zaxis": {
            "backgroundcolor": "white",
            "gridcolor": "rgb(232,232,232)",
            "gridwidth": 2,
            "linecolor": "rgb(36,36,36)",
            "showbackground": true,
            "showgrid": false,
            "showline": true,
            "ticks": "outside",
            "zeroline": false,
            "zerolinecolor": "rgb(36,36,36)"
           }
          },
          "shapedefaults": {
           "fillcolor": "black",
           "line": {
            "width": 0
           },
           "opacity": 0.3
          },
          "ternary": {
           "aaxis": {
            "gridcolor": "rgb(232,232,232)",
            "linecolor": "rgb(36,36,36)",
            "showgrid": false,
            "showline": true,
            "ticks": "outside"
           },
           "baxis": {
            "gridcolor": "rgb(232,232,232)",
            "linecolor": "rgb(36,36,36)",
            "showgrid": false,
            "showline": true,
            "ticks": "outside"
           },
           "bgcolor": "white",
           "caxis": {
            "gridcolor": "rgb(232,232,232)",
            "linecolor": "rgb(36,36,36)",
            "showgrid": false,
            "showline": true,
            "ticks": "outside"
           }
          },
          "title": {
           "x": 0.05
          },
          "xaxis": {
           "automargin": true,
           "gridcolor": "rgb(232,232,232)",
           "linecolor": "rgb(36,36,36)",
           "showgrid": false,
           "showline": true,
           "ticks": "outside",
           "title": {
            "standoff": 15
           },
           "zeroline": false,
           "zerolinecolor": "rgb(36,36,36)"
          },
          "yaxis": {
           "automargin": true,
           "gridcolor": "rgb(232,232,232)",
           "linecolor": "rgb(36,36,36)",
           "showgrid": false,
           "showline": true,
           "ticks": "outside",
           "title": {
            "standoff": 15
           },
           "zeroline": false,
           "zerolinecolor": "rgb(36,36,36)"
          }
         }
        },
        "font": {
         "family": "Computer Modern"
        },
        "yaxis": {
         "title": {
          "text": "SSIM"
         }
        },
        "xaxis": {
         "categoryorder": "array"
        }
       },
       "config": {
        "plotlyServerURL": "https://plot.ly"
       }
      },
      "text/html": "<div>                            <div id=\"290a4234-03f1-4503-a2b1-e897726ef3c6\" class=\"plotly-graph-div\" style=\"height:525px; width:100%;\"></div>            <script type=\"text/javascript\">                require([\"plotly\"], function(Plotly) {                    window.PLOTLYENV=window.PLOTLYENV || {};                                    if (document.getElementById(\"290a4234-03f1-4503-a2b1-e897726ef3c6\")) {                    Plotly.newPlot(                        \"290a4234-03f1-4503-a2b1-e897726ef3c6\",                        [{\"boxmean\":true,\"boxpoints\":\"all\",\"marker\":{\"color\":\"#808080\"},\"name\":\"all\",\"showlegend\":false,\"y\":[0.7419069378451068,0.7602941358787846,0.7606503258553371,0.7453080671144047,0.7660903454306277,0.7600800574522465,0.7845752041893589,0.7696815423259729,0.7245457200785355,0.7863212965373729,0.7745849341237141,0.7826716035357263,0.7625521347098964,0.7730954522011183,0.7694333106009216,0.7579881216582649,0.7851351841754329,0.7831709949107152,0.7844571351057413,0.7596939060772478,0.7542648541530759,0.8384340076530593,0.7995081168711478,0.7587674087899883,0.7748509429994336,0.7827512524873033,0.7958456416684031,0.7931564688039966,0.7855417661980066,0.7871369068331218,0.7764525833152831,0.7944841413584532,0.7752743476895537,0.7970707635493866,0.7967696617055565,0.7894974567113687,0.8010964828949084,0.8057414878076884,0.7349111447898857,0.7773200887794264,0.7881058690776834,0.7589741717005132,0.7627844119331594,0.7732990333880984,0.7823750613577186,0.7692406346316641,0.7181670805667509,0.7832633806772825,0.7552212072046899,0.7184375504308731,0.7759160812604396,0.7752176335940192],\"type\":\"box\"},{\"boxmean\":true,\"boxpoints\":\"all\",\"marker\":{\"color\":\"#DF2F27\"},\"name\":\"DAPI\",\"showlegend\":false,\"y\":[0.9267930296587364,0.9416041325670704,0.9451918778578969,0.9253518002783868,0.9261371544099424,0.927593081169068,0.9355840914081808,0.9298887758930232,0.8927851121147057,0.923449663879752,0.913923815113012,0.9253732579966172,0.9140103463276656,0.9172083937213044,0.92449443689889,0.9161192067737192,0.9263284798748724,0.92338557816384,0.9192555997494744,0.8906262324080043,0.9172813573352906,0.9486069748265032,0.9281113039720044,0.94679802063235,0.9350673069847206,0.9450698603533438,0.9538339413837668,0.9392201135035612,0.9353911341983231,0.9328687274949352,0.926269147733374,0.9311892417826736,0.9312231996015706,0.9435139199378516,0.9304945846965508,0.9469928511587992,0.9465332077330968,0.9456250293358816,0.9053634515129344,0.9032783658654624,0.911228437360042,0.8990211836879971,0.8848659104991284,0.9262222621052258,0.9184240734174094,0.9047049367412762,0.8965557434706501,0.9195313853692088,0.9095183009335458,0.910800376279984,0.9057569365268756,0.9008160705854676],\"type\":\"box\"},{\"boxmean\":true,\"boxpoints\":\"all\",\"marker\":{\"color\":\"#31DF41\"},\"name\":\"WT1\",\"showlegend\":false,\"y\":[0.6886217298205933,0.676512146894311,0.6898826361000895,0.71402105792395,0.7251445265646331,0.6903408211689587,0.7534090853388709,0.7004519750464905,0.6168961047977443,0.7157096885560826,0.720642237568759,0.7143682558378753,0.6859787007765763,0.688135211712511,0.7135378504016177,0.6469132259433366,0.7184813088192519,0.7377044893412641,0.7404609441468716,0.6867987477977558,0.6736723352996121,0.7870369495719545,0.7569745173044473,0.6042212387602789,0.6985102787398941,0.7535412718173673,0.6838762727386587,0.7317816877062977,0.7007992490014422,0.7421235342626229,0.7048141165991968,0.7181331486547576,0.6554364658203216,0.7358531020835279,0.7503780668845069,0.7003990580585894,0.7426783059583419,0.7556257452939679,0.6046060976703993,0.6748185750390555,0.7052579672064329,0.7029292207915573,0.6998856878480189,0.6875915187268407,0.6976685750092879,0.6901042279530003,0.6553009116729683,0.6754206946555981,0.6607732298438818,0.5499686294633357,0.7393953973060178,0.6831145529661751],\"type\":\"box\"},{\"boxmean\":true,\"boxpoints\":\"all\",\"marker\":{\"color\":\"#334AF9\"},\"name\":\"DACH1\",\"showlegend\":false,\"y\":[0.6103060540559907,0.662766128174972,0.646876463608025,0.5965513431408769,0.6469893553173075,0.662306270018713,0.6647324358210249,0.678703876038405,0.6639559433231568,0.7198045371762849,0.6891887496893713,0.7082732967726862,0.687667357025447,0.7139427511695393,0.6702676445022571,0.7109319322577388,0.7105957638321743,0.6884229172270414,0.6936548614208778,0.7016567380259833,0.6718408698243251,0.7796580985607204,0.7134385293369917,0.7252829669773357,0.6909752432736859,0.6496426252911989,0.7498267108827839,0.7084676052021309,0.7204349153942546,0.6864184587418071,0.6982744856132785,0.7341300336379282,0.7391633776467689,0.7118452686267803,0.7094363335356116,0.7211004609167179,0.7140779349932863,0.7159736887932159,0.6947638851863235,0.7538633254337611,0.7478312026665758,0.6749721106219854,0.7036016374523308,0.7060833193322288,0.7310325356464584,0.7129127392007157,0.6026445865566344,0.7548380620070407,0.6953720908366414,0.6945436455492996,0.6825959099484256,0.7417222772304151],\"type\":\"box\"}],                        {\"template\":{\"data\":{\"barpolar\":[{\"marker\":{\"line\":{\"color\":\"white\",\"width\":0.5},\"pattern\":{\"fillmode\":\"overlay\",\"size\":10,\"solidity\":0.2}},\"type\":\"barpolar\"}],\"bar\":[{\"error_x\":{\"color\":\"rgb(36,36,36)\"},\"error_y\":{\"color\":\"rgb(36,36,36)\"},\"marker\":{\"line\":{\"color\":\"white\",\"width\":0.5},\"pattern\":{\"fillmode\":\"overlay\",\"size\":10,\"solidity\":0.2}},\"type\":\"bar\"}],\"carpet\":[{\"aaxis\":{\"endlinecolor\":\"rgb(36,36,36)\",\"gridcolor\":\"white\",\"linecolor\":\"white\",\"minorgridcolor\":\"white\",\"startlinecolor\":\"rgb(36,36,36)\"},\"baxis\":{\"endlinecolor\":\"rgb(36,36,36)\",\"gridcolor\":\"white\",\"linecolor\":\"white\",\"minorgridcolor\":\"white\",\"startlinecolor\":\"rgb(36,36,36)\"},\"type\":\"carpet\"}],\"choropleth\":[{\"colorbar\":{\"outlinewidth\":1,\"tickcolor\":\"rgb(36,36,36)\",\"ticks\":\"outside\"},\"type\":\"choropleth\"}],\"contourcarpet\":[{\"colorbar\":{\"outlinewidth\":1,\"tickcolor\":\"rgb(36,36,36)\",\"ticks\":\"outside\"},\"type\":\"contourcarpet\"}],\"contour\":[{\"colorbar\":{\"outlinewidth\":1,\"tickcolor\":\"rgb(36,36,36)\",\"ticks\":\"outside\"},\"colorscale\":[[0.0,\"#440154\"],[0.1111111111111111,\"#482878\"],[0.2222222222222222,\"#3e4989\"],[0.3333333333333333,\"#31688e\"],[0.4444444444444444,\"#26828e\"],[0.5555555555555556,\"#1f9e89\"],[0.6666666666666666,\"#35b779\"],[0.7777777777777778,\"#6ece58\"],[0.8888888888888888,\"#b5de2b\"],[1.0,\"#fde725\"]],\"type\":\"contour\"}],\"heatmapgl\":[{\"colorbar\":{\"outlinewidth\":1,\"tickcolor\":\"rgb(36,36,36)\",\"ticks\":\"outside\"},\"colorscale\":[[0.0,\"#440154\"],[0.1111111111111111,\"#482878\"],[0.2222222222222222,\"#3e4989\"],[0.3333333333333333,\"#31688e\"],[0.4444444444444444,\"#26828e\"],[0.5555555555555556,\"#1f9e89\"],[0.6666666666666666,\"#35b779\"],[0.7777777777777778,\"#6ece58\"],[0.8888888888888888,\"#b5de2b\"],[1.0,\"#fde725\"]],\"type\":\"heatmapgl\"}],\"heatmap\":[{\"colorbar\":{\"outlinewidth\":1,\"tickcolor\":\"rgb(36,36,36)\",\"ticks\":\"outside\"},\"colorscale\":[[0.0,\"#440154\"],[0.1111111111111111,\"#482878\"],[0.2222222222222222,\"#3e4989\"],[0.3333333333333333,\"#31688e\"],[0.4444444444444444,\"#26828e\"],[0.5555555555555556,\"#1f9e89\"],[0.6666666666666666,\"#35b779\"],[0.7777777777777778,\"#6ece58\"],[0.8888888888888888,\"#b5de2b\"],[1.0,\"#fde725\"]],\"type\":\"heatmap\"}],\"histogram2dcontour\":[{\"colorbar\":{\"outlinewidth\":1,\"tickcolor\":\"rgb(36,36,36)\",\"ticks\":\"outside\"},\"colorscale\":[[0.0,\"#440154\"],[0.1111111111111111,\"#482878\"],[0.2222222222222222,\"#3e4989\"],[0.3333333333333333,\"#31688e\"],[0.4444444444444444,\"#26828e\"],[0.5555555555555556,\"#1f9e89\"],[0.6666666666666666,\"#35b779\"],[0.7777777777777778,\"#6ece58\"],[0.8888888888888888,\"#b5de2b\"],[1.0,\"#fde725\"]],\"type\":\"histogram2dcontour\"}],\"histogram2d\":[{\"colorbar\":{\"outlinewidth\":1,\"tickcolor\":\"rgb(36,36,36)\",\"ticks\":\"outside\"},\"colorscale\":[[0.0,\"#440154\"],[0.1111111111111111,\"#482878\"],[0.2222222222222222,\"#3e4989\"],[0.3333333333333333,\"#31688e\"],[0.4444444444444444,\"#26828e\"],[0.5555555555555556,\"#1f9e89\"],[0.6666666666666666,\"#35b779\"],[0.7777777777777778,\"#6ece58\"],[0.8888888888888888,\"#b5de2b\"],[1.0,\"#fde725\"]],\"type\":\"histogram2d\"}],\"histogram\":[{\"marker\":{\"line\":{\"color\":\"white\",\"width\":0.6}},\"type\":\"histogram\"}],\"mesh3d\":[{\"colorbar\":{\"outlinewidth\":1,\"tickcolor\":\"rgb(36,36,36)\",\"ticks\":\"outside\"},\"type\":\"mesh3d\"}],\"parcoords\":[{\"line\":{\"colorbar\":{\"outlinewidth\":1,\"tickcolor\":\"rgb(36,36,36)\",\"ticks\":\"outside\"}},\"type\":\"parcoords\"}],\"pie\":[{\"automargin\":true,\"type\":\"pie\"}],\"scatter3d\":[{\"line\":{\"colorbar\":{\"outlinewidth\":1,\"tickcolor\":\"rgb(36,36,36)\",\"ticks\":\"outside\"}},\"marker\":{\"colorbar\":{\"outlinewidth\":1,\"tickcolor\":\"rgb(36,36,36)\",\"ticks\":\"outside\"}},\"type\":\"scatter3d\"}],\"scattercarpet\":[{\"marker\":{\"colorbar\":{\"outlinewidth\":1,\"tickcolor\":\"rgb(36,36,36)\",\"ticks\":\"outside\"}},\"type\":\"scattercarpet\"}],\"scattergeo\":[{\"marker\":{\"colorbar\":{\"outlinewidth\":1,\"tickcolor\":\"rgb(36,36,36)\",\"ticks\":\"outside\"}},\"type\":\"scattergeo\"}],\"scattergl\":[{\"marker\":{\"colorbar\":{\"outlinewidth\":1,\"tickcolor\":\"rgb(36,36,36)\",\"ticks\":\"outside\"}},\"type\":\"scattergl\"}],\"scattermapbox\":[{\"marker\":{\"colorbar\":{\"outlinewidth\":1,\"tickcolor\":\"rgb(36,36,36)\",\"ticks\":\"outside\"}},\"type\":\"scattermapbox\"}],\"scatterpolargl\":[{\"marker\":{\"colorbar\":{\"outlinewidth\":1,\"tickcolor\":\"rgb(36,36,36)\",\"ticks\":\"outside\"}},\"type\":\"scatterpolargl\"}],\"scatterpolar\":[{\"marker\":{\"colorbar\":{\"outlinewidth\":1,\"tickcolor\":\"rgb(36,36,36)\",\"ticks\":\"outside\"}},\"type\":\"scatterpolar\"}],\"scatter\":[{\"fillpattern\":{\"fillmode\":\"overlay\",\"size\":10,\"solidity\":0.2},\"type\":\"scatter\"}],\"scatterternary\":[{\"marker\":{\"colorbar\":{\"outlinewidth\":1,\"tickcolor\":\"rgb(36,36,36)\",\"ticks\":\"outside\"}},\"type\":\"scatterternary\"}],\"surface\":[{\"colorbar\":{\"outlinewidth\":1,\"tickcolor\":\"rgb(36,36,36)\",\"ticks\":\"outside\"},\"colorscale\":[[0.0,\"#440154\"],[0.1111111111111111,\"#482878\"],[0.2222222222222222,\"#3e4989\"],[0.3333333333333333,\"#31688e\"],[0.4444444444444444,\"#26828e\"],[0.5555555555555556,\"#1f9e89\"],[0.6666666666666666,\"#35b779\"],[0.7777777777777778,\"#6ece58\"],[0.8888888888888888,\"#b5de2b\"],[1.0,\"#fde725\"]],\"type\":\"surface\"}],\"table\":[{\"cells\":{\"fill\":{\"color\":\"rgb(237,237,237)\"},\"line\":{\"color\":\"white\"}},\"header\":{\"fill\":{\"color\":\"rgb(217,217,217)\"},\"line\":{\"color\":\"white\"}},\"type\":\"table\"}]},\"layout\":{\"annotationdefaults\":{\"arrowhead\":0,\"arrowwidth\":1},\"autotypenumbers\":\"strict\",\"coloraxis\":{\"colorbar\":{\"outlinewidth\":1,\"tickcolor\":\"rgb(36,36,36)\",\"ticks\":\"outside\"}},\"colorscale\":{\"diverging\":[[0.0,\"rgb(103,0,31)\"],[0.1,\"rgb(178,24,43)\"],[0.2,\"rgb(214,96,77)\"],[0.3,\"rgb(244,165,130)\"],[0.4,\"rgb(253,219,199)\"],[0.5,\"rgb(247,247,247)\"],[0.6,\"rgb(209,229,240)\"],[0.7,\"rgb(146,197,222)\"],[0.8,\"rgb(67,147,195)\"],[0.9,\"rgb(33,102,172)\"],[1.0,\"rgb(5,48,97)\"]],\"sequential\":[[0.0,\"#440154\"],[0.1111111111111111,\"#482878\"],[0.2222222222222222,\"#3e4989\"],[0.3333333333333333,\"#31688e\"],[0.4444444444444444,\"#26828e\"],[0.5555555555555556,\"#1f9e89\"],[0.6666666666666666,\"#35b779\"],[0.7777777777777778,\"#6ece58\"],[0.8888888888888888,\"#b5de2b\"],[1.0,\"#fde725\"]],\"sequentialminus\":[[0.0,\"#440154\"],[0.1111111111111111,\"#482878\"],[0.2222222222222222,\"#3e4989\"],[0.3333333333333333,\"#31688e\"],[0.4444444444444444,\"#26828e\"],[0.5555555555555556,\"#1f9e89\"],[0.6666666666666666,\"#35b779\"],[0.7777777777777778,\"#6ece58\"],[0.8888888888888888,\"#b5de2b\"],[1.0,\"#fde725\"]]},\"colorway\":[\"#1F77B4\",\"#FF7F0E\",\"#2CA02C\",\"#D62728\",\"#9467BD\",\"#8C564B\",\"#E377C2\",\"#7F7F7F\",\"#BCBD22\",\"#17BECF\"],\"font\":{\"color\":\"rgb(36,36,36)\"},\"geo\":{\"bgcolor\":\"white\",\"lakecolor\":\"white\",\"landcolor\":\"white\",\"showlakes\":true,\"showland\":true,\"subunitcolor\":\"white\"},\"hoverlabel\":{\"align\":\"left\"},\"hovermode\":\"closest\",\"mapbox\":{\"style\":\"light\"},\"paper_bgcolor\":\"white\",\"plot_bgcolor\":\"white\",\"polar\":{\"angularaxis\":{\"gridcolor\":\"rgb(232,232,232)\",\"linecolor\":\"rgb(36,36,36)\",\"showgrid\":false,\"showline\":true,\"ticks\":\"outside\"},\"bgcolor\":\"white\",\"radialaxis\":{\"gridcolor\":\"rgb(232,232,232)\",\"linecolor\":\"rgb(36,36,36)\",\"showgrid\":false,\"showline\":true,\"ticks\":\"outside\"}},\"scene\":{\"xaxis\":{\"backgroundcolor\":\"white\",\"gridcolor\":\"rgb(232,232,232)\",\"gridwidth\":2,\"linecolor\":\"rgb(36,36,36)\",\"showbackground\":true,\"showgrid\":false,\"showline\":true,\"ticks\":\"outside\",\"zeroline\":false,\"zerolinecolor\":\"rgb(36,36,36)\"},\"yaxis\":{\"backgroundcolor\":\"white\",\"gridcolor\":\"rgb(232,232,232)\",\"gridwidth\":2,\"linecolor\":\"rgb(36,36,36)\",\"showbackground\":true,\"showgrid\":false,\"showline\":true,\"ticks\":\"outside\",\"zeroline\":false,\"zerolinecolor\":\"rgb(36,36,36)\"},\"zaxis\":{\"backgroundcolor\":\"white\",\"gridcolor\":\"rgb(232,232,232)\",\"gridwidth\":2,\"linecolor\":\"rgb(36,36,36)\",\"showbackground\":true,\"showgrid\":false,\"showline\":true,\"ticks\":\"outside\",\"zeroline\":false,\"zerolinecolor\":\"rgb(36,36,36)\"}},\"shapedefaults\":{\"fillcolor\":\"black\",\"line\":{\"width\":0},\"opacity\":0.3},\"ternary\":{\"aaxis\":{\"gridcolor\":\"rgb(232,232,232)\",\"linecolor\":\"rgb(36,36,36)\",\"showgrid\":false,\"showline\":true,\"ticks\":\"outside\"},\"baxis\":{\"gridcolor\":\"rgb(232,232,232)\",\"linecolor\":\"rgb(36,36,36)\",\"showgrid\":false,\"showline\":true,\"ticks\":\"outside\"},\"bgcolor\":\"white\",\"caxis\":{\"gridcolor\":\"rgb(232,232,232)\",\"linecolor\":\"rgb(36,36,36)\",\"showgrid\":false,\"showline\":true,\"ticks\":\"outside\"}},\"title\":{\"x\":0.05},\"xaxis\":{\"automargin\":true,\"gridcolor\":\"rgb(232,232,232)\",\"linecolor\":\"rgb(36,36,36)\",\"showgrid\":false,\"showline\":true,\"ticks\":\"outside\",\"title\":{\"standoff\":15},\"zeroline\":false,\"zerolinecolor\":\"rgb(36,36,36)\"},\"yaxis\":{\"automargin\":true,\"gridcolor\":\"rgb(232,232,232)\",\"linecolor\":\"rgb(36,36,36)\",\"showgrid\":false,\"showline\":true,\"ticks\":\"outside\",\"title\":{\"standoff\":15},\"zeroline\":false,\"zerolinecolor\":\"rgb(36,36,36)\"}}},\"font\":{\"family\":\"Computer Modern\"},\"yaxis\":{\"title\":{\"text\":\"SSIM\"}},\"xaxis\":{\"categoryorder\":\"array\"}},                        {\"responsive\": true}                    ).then(function(){\n                            \nvar gd = document.getElementById('290a4234-03f1-4503-a2b1-e897726ef3c6');\nvar x = new MutationObserver(function (mutations, observer) {{\n        var display = window.getComputedStyle(gd).display;\n        if (!display || display === 'none') {{\n            console.log([gd, 'removed!']);\n            Plotly.purge(gd);\n            observer.disconnect();\n        }}\n}});\n\n// Listen for the removal of the full notebook cells\nvar notebookContainer = gd.closest('#notebook-container');\nif (notebookContainer) {{\n    x.observe(notebookContainer, {childList: true});\n}}\n\n// Listen for the clearing of the current output cell\nvar outputEl = gd.closest('.output');\nif (outputEl) {{\n    x.observe(outputEl, {childList: true});\n}}\n\n                        })                };                });            </script>        </div>"
     },
     "metadata": {},
     "output_type": "display_data"
    }
   ],
   "source": [
    "## Boxplot for Channels\n",
    "\n",
    "def boxplot_channels(df: pd.DataFrame, export=False) -> None:\n",
    "    colors = ['#808080', '#DF2F27', '#31DF41', '#334AF9']\n",
    "    fig = go.Figure()\n",
    "    for col, metric in zip(colors, label_channels):\n",
    "        fig.add_trace(go.Box(y=df['value'][df.metric == metric],\n",
    "            name=metric, marker_color=col, boxmean=True, showlegend=False, boxpoints='all'\n",
    "        ))\n",
    "    fig.update_layout(template='simple_white', yaxis_title='SSIM', font_family=\"Computer Modern\")\n",
    "    fig.update_xaxes(categoryorder='array')\n",
    "    fig.show()\n",
    "\n",
    "    if export:\n",
    "        fig.write_image(f'../graphics/channels.png')\n",
    "\n",
    "boxplot_channels(df_channels, True)"
   ],
   "metadata": {
    "collapsed": false,
    "pycharm": {
     "name": "#%%\n"
    }
   }
  }
 ],
 "metadata": {
  "kernelspec": {
   "display_name": "Python 3",
   "language": "python",
   "name": "python3"
  },
  "language_info": {
   "codemirror_mode": {
    "name": "ipython",
    "version": 2
   },
   "file_extension": ".py",
   "mimetype": "text/x-python",
   "name": "python",
   "nbconvert_exporter": "python",
   "pygments_lexer": "ipython2",
   "version": "2.7.6"
  }
 },
 "nbformat": 4,
 "nbformat_minor": 0
}